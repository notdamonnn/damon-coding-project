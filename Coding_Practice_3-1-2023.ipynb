{
 "cells": [
  {
   "cell_type": "markdown",
   "id": "73448745",
   "metadata": {},
   "source": [
    "# Practice Problem 1: FizzBuzz\n",
    "\n",
    "Write a program that prints out every number from 1 - 100 (up to and including 100). \n",
    "\n",
    "If the number is evenly divisible by 3, print `\"FIZZ\"` instead of the number. \n",
    "\n",
    "If the number is evenly divisible by 5, print `\"BUZZ\"` instead of the number.\n",
    "\n",
    "If the number is evenly divisible by 3 AND 5, print `\"FIZZBUZZ\"` instead of the number.\n",
    "\n",
    "If the number is not evenly divisible by 3 or 5, just print the number. \n",
    "\n",
    "Example output: {DAMON, ENTER THIS HERE}"
   ]
  },
  {
   "cell_type": "code",
   "execution_count": null,
   "id": "55c40676",
   "metadata": {},
   "outputs": [],
   "source": []
  },
  {
   "cell_type": "code",
   "execution_count": null,
   "id": "8de69f9a",
   "metadata": {},
   "outputs": [],
   "source": []
  },
  {
   "cell_type": "markdown",
   "id": "fd4485d6",
   "metadata": {},
   "source": [
    "# Practice Problem 2: Modularizing Code to be Reusable\n",
    "\n",
    "Turn your fizzbuzz code into a function that takes in a starting number and an ending number, instead of counting from 1-100. For example, calling `fizzbuzz(20, 453)` should play fizzbuzz like in problem 1, but start counting at 20 and finish counting after 453.\n",
    "\n"
   ]
  },
  {
   "cell_type": "code",
   "execution_count": null,
   "id": "bd9b7a7c",
   "metadata": {},
   "outputs": [],
   "source": []
  },
  {
   "cell_type": "code",
   "execution_count": null,
   "id": "4fc4e3e1",
   "metadata": {},
   "outputs": [],
   "source": []
  },
  {
   "cell_type": "markdown",
   "id": "793946d2",
   "metadata": {},
   "source": [
    "# Practice Problem 3: Testing our code \n",
    "\n",
    "Now, write some **unit tests** to automatically check if your fizzbuzz function is working correctly. A Unit Test is a collection of functions that checks if the code we've written actually works. To write a unit test, think of a sample input for your function, and what the output should be. Then, call your function and check if the actual output matches the expected output. Unit tests use the `assert` keyword to tell Python to stop everything and throw an error if the statement is false. \n",
    "\n",
    "See the sample code cells below for examples. "
   ]
  },
  {
   "cell_type": "code",
   "execution_count": null,
   "id": "fa8fbc03",
   "metadata": {},
   "outputs": [],
   "source": [
    "def foo(num_1, num_2):\n",
    "    \"\"\"adds two numbers and returns the result\"\"\"\n",
    "    return num_1 + num_2\n",
    "\n",
    "def test_foo():\n",
    "    input_1 = 2\n",
    "    input_2 = 3\n",
    "    expected_output = 5\n",
    "    actual_output = foo(input_1, input_2)\n",
    "    \n",
    "    assert expected_output == actual_output\n",
    "    print(\"All tests passed!\")\n",
    "    \n",
    "test_foo()"
   ]
  },
  {
   "cell_type": "code",
   "execution_count": null,
   "id": "df5d8506",
   "metadata": {},
   "outputs": [],
   "source": []
  },
  {
   "cell_type": "code",
   "execution_count": null,
   "id": "bd9fe120",
   "metadata": {},
   "outputs": [],
   "source": []
  },
  {
   "cell_type": "code",
   "execution_count": null,
   "id": "5d43bae0",
   "metadata": {},
   "outputs": [],
   "source": []
  },
  {
   "cell_type": "markdown",
   "id": "c264cc56",
   "metadata": {},
   "source": [
    "# Practice Problem 4: Searching for Duplicates in a List\n",
    "\n",
    "The following cell generates 100 names by randomly combining names from the `first_names` and `last_names` list. Write a functiuon that identifies the duplicates in the list. \n",
    "\n",
    "**Note**: The wording on this problem is intentionally vague. There a ton of different ways to solve this. Start by asking questions and defining requirements and some example outputs, and then work backwards to figure out what sort of code you would need to write to generate those outputs. "
   ]
  },
  {
   "cell_type": "code",
   "execution_count": null,
   "id": "150517b4",
   "metadata": {},
   "outputs": [],
   "source": [
    "# Run this cell to generate a list of random names\n",
    "import random\n",
    "random.seed(42)\n",
    "\n",
    "first_names = ['Mike', 'Damon', 'DJ', 'Chelsea', 'Lisa', 'Valentina', 'Quinn', 'Charlotte']\n",
    "last_names = ['Kane', 'Miranda', 'Covello', 'Uvarova']\n",
    "\n",
    "names_list = [f'{random.choice(first_names)} {random.choice(last_names)}' for _ in range(100)]"
   ]
  },
  {
   "cell_type": "code",
   "execution_count": null,
   "id": "ba1a6080",
   "metadata": {},
   "outputs": [],
   "source": [
    "# Now, write code to count how many duplicates are in names_list\n",
    "# Hint: Think about what possible scenarios could happen each time you move to a new name in the list. How does your program\n",
    "# keep track of what names it has seen before?\n",
    "\n"
   ]
  },
  {
   "cell_type": "code",
   "execution_count": null,
   "id": "5888bd09",
   "metadata": {},
   "outputs": [],
   "source": []
  },
  {
   "cell_type": "code",
   "execution_count": null,
   "id": "a98eff88",
   "metadata": {},
   "outputs": [],
   "source": []
  },
  {
   "cell_type": "code",
   "execution_count": null,
   "id": "ee2a40db",
   "metadata": {},
   "outputs": [],
   "source": []
  },
  {
   "cell_type": "markdown",
   "id": "24fdeda1",
   "metadata": {},
   "source": [
    "# Practice Problem 5: Storing the indices in a Dictionary\n",
    "\n",
    "Modify the code you wrote above to create a dictionary that stores the index for every possible name found in `names_list`.\n",
    "\n",
    "Example: \n",
    "\n",
    "`names_list = ['Mike Kane', 'DJ Kane', 'Mike Kane', 'Damon Miranda']`\n",
    "\n",
    "Expected Output: \n",
    "\n",
    "`names_index_dict = {'Mike Kane': [0, 2], 'DJ Kane': [1], 'Damon Miranda: [3] }`"
   ]
  },
  {
   "cell_type": "code",
   "execution_count": null,
   "id": "2fca7632",
   "metadata": {},
   "outputs": [],
   "source": []
  },
  {
   "cell_type": "code",
   "execution_count": null,
   "id": "902cd945",
   "metadata": {},
   "outputs": [],
   "source": []
  },
  {
   "cell_type": "code",
   "execution_count": null,
   "id": "d5d0b49a",
   "metadata": {},
   "outputs": [],
   "source": []
  },
  {
   "cell_type": "code",
   "execution_count": null,
   "id": "6caae1a0",
   "metadata": {},
   "outputs": [],
   "source": []
  },
  {
   "cell_type": "code",
   "execution_count": null,
   "id": "eab42fea",
   "metadata": {},
   "outputs": [],
   "source": []
  },
  {
   "cell_type": "markdown",
   "id": "22213b76",
   "metadata": {},
   "source": [
    "# Practice Problem 6: Writing to a List\n",
    "\n",
    "Write the contents of `names_index_dict` to a text file named `names_index.txt`. Use the internet to figure out how to do this.\n",
    "\n",
    "Hint: You can google your question, or try asking ChatGPT!\n",
    "\n"
   ]
  },
  {
   "cell_type": "code",
   "execution_count": null,
   "id": "87ca16c6",
   "metadata": {},
   "outputs": [],
   "source": []
  },
  {
   "cell_type": "code",
   "execution_count": null,
   "id": "f18ebb28",
   "metadata": {},
   "outputs": [],
   "source": []
  },
  {
   "cell_type": "code",
   "execution_count": null,
   "id": "ad5bf3d9",
   "metadata": {},
   "outputs": [],
   "source": []
  },
  {
   "cell_type": "code",
   "execution_count": null,
   "id": "2e6820f2",
   "metadata": {},
   "outputs": [],
   "source": []
  },
  {
   "cell_type": "markdown",
   "id": "8e332c55",
   "metadata": {},
   "source": [
    "# Practice Problem 7: Reading From a List\n",
    "\n",
    "Write a function that can read the contents of `names_index.txt` and recreate `names_index_dict` in a new variable, `names_index_txt_contents_dict`.\n",
    "\n",
    "Then, write a unit test to compare the contents of `names_index_dict` with the contents of `names_index_txt_contents_dict`."
   ]
  },
  {
   "cell_type": "code",
   "execution_count": null,
   "id": "8f72335c",
   "metadata": {},
   "outputs": [],
   "source": []
  },
  {
   "cell_type": "code",
   "execution_count": null,
   "id": "242a7ed1",
   "metadata": {},
   "outputs": [],
   "source": []
  },
  {
   "cell_type": "code",
   "execution_count": null,
   "id": "6c20eff7",
   "metadata": {},
   "outputs": [],
   "source": []
  },
  {
   "cell_type": "code",
   "execution_count": null,
   "id": "8f23de02",
   "metadata": {},
   "outputs": [],
   "source": []
  },
  {
   "cell_type": "code",
   "execution_count": null,
   "id": "44ae9f5c",
   "metadata": {},
   "outputs": [],
   "source": []
  }
 ],
 "metadata": {
  "kernelspec": {
   "display_name": "Python 3 (ipykernel)",
   "language": "python",
   "name": "python3"
  },
  "language_info": {
   "codemirror_mode": {
    "name": "ipython",
    "version": 3
   },
   "file_extension": ".py",
   "mimetype": "text/x-python",
   "name": "python",
   "nbconvert_exporter": "python",
   "pygments_lexer": "ipython3",
   "version": "3.9.12"
  }
 },
 "nbformat": 4,
 "nbformat_minor": 5
}
