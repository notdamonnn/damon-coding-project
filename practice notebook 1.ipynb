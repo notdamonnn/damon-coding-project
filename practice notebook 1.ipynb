{
 "cells": [
  {
   "cell_type": "code",
   "execution_count": 9,
   "id": "fe3efc5b",
   "metadata": {},
   "outputs": [],
   "source": [
    "name=\"damon\""
   ]
  },
  {
   "cell_type": "code",
   "execution_count": 10,
   "id": "bbb34403",
   "metadata": {},
   "outputs": [
    {
     "data": {
      "text/plain": [
       "'damon'"
      ]
     },
     "execution_count": 10,
     "metadata": {},
     "output_type": "execute_result"
    }
   ],
   "source": [
    "name"
   ]
  },
  {
   "cell_type": "code",
   "execution_count": 5,
   "id": "99278c53",
   "metadata": {},
   "outputs": [
    {
     "data": {
      "text/plain": [
       "5"
      ]
     },
     "execution_count": 5,
     "metadata": {},
     "output_type": "execute_result"
    }
   ],
   "source": [
    "len(\"damon\")"
   ]
  },
  {
   "cell_type": "code",
   "execution_count": 11,
   "id": "e6cf5f16",
   "metadata": {},
   "outputs": [
    {
     "name": "stdout",
     "output_type": "stream",
     "text": [
      "hello\n"
     ]
    }
   ],
   "source": [
    "if len(name) >= 5:\n",
    "    print(\"hello\")\n",
    "else:\n",
    "    print(\"goodbye\")"
   ]
  },
  {
   "cell_type": "markdown",
   "id": "20b7e588",
   "metadata": {},
   "source": [
    "# \n",
    "\n",
    "Task: \n",
    "\n",
    "take a name.  <-- store the name in a variable\n",
    "If the name has 5 or more letters in it <-- check the length of the whatever is stored in that variable\n",
    "    , say hello.   If this triggers, print hello\n",
    "If the name doesn't,  if its less than 5:\n",
    "    say goodbye.   print (goodbye)_\n",
    "\n",
    "\n",
    "\n"
   ]
  },
  {
   "cell_type": "code",
   "execution_count": 6,
   "id": "cc096595",
   "metadata": {},
   "outputs": [
    {
     "data": {
      "text/plain": [
       "0"
      ]
     },
     "execution_count": 6,
     "metadata": {},
     "output_type": "execute_result"
    }
   ],
   "source": [
    "len(name)"
   ]
  },
  {
   "cell_type": "code",
   "execution_count": null,
   "id": "ffeb1524",
   "metadata": {},
   "outputs": [],
   "source": [
    "name = \"\"\n",
    "\n",
    "if len(name) >= 5:\n",
    "    "
   ]
  }
 ],
 "metadata": {
  "kernelspec": {
   "display_name": "Python 3 (ipykernel)",
   "language": "python",
   "name": "python3"
  },
  "language_info": {
   "codemirror_mode": {
    "name": "ipython",
    "version": 3
   },
   "file_extension": ".py",
   "mimetype": "text/x-python",
   "name": "python",
   "nbconvert_exporter": "python",
   "pygments_lexer": "ipython3",
   "version": "3.9.13"
  }
 },
 "nbformat": 4,
 "nbformat_minor": 5
}
